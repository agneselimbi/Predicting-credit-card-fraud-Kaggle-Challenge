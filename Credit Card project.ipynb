{
 "cells": [
  {
   "cell_type": "code",
   "execution_count": 134,
   "id": "108a20d9",
   "metadata": {},
   "outputs": [],
   "source": [
    "## Import dependencies\n",
    "import pandas as pd \n",
    "import numpy as np \n",
    "import seaborn as sns\n",
    "import matplotlib.pyplot as plt\n",
    "import imblearn\n",
    "from imblearn.over_sampling import SMOTE"
   ]
  },
  {
   "cell_type": "code",
   "execution_count": 216,
   "id": "a3e3e4e7",
   "metadata": {},
   "outputs": [],
   "source": [
    "## Import data \n",
    "train_df = pd.read_csv(\"train.csv\")\n",
    "customer_df = pd.read_csv(\"customer.csv\")\n",
    "test_df = pd.read_csv(\"test.csv\")"
   ]
  },
  {
   "cell_type": "code",
   "execution_count": 137,
   "id": "e621676f",
   "metadata": {},
   "outputs": [
    {
     "data": {
      "text/html": [
       "<div>\n",
       "<style scoped>\n",
       "    .dataframe tbody tr th:only-of-type {\n",
       "        vertical-align: middle;\n",
       "    }\n",
       "\n",
       "    .dataframe tbody tr th {\n",
       "        vertical-align: top;\n",
       "    }\n",
       "\n",
       "    .dataframe thead th {\n",
       "        text-align: right;\n",
       "    }\n",
       "</style>\n",
       "<table border=\"1\" class=\"dataframe\">\n",
       "  <thead>\n",
       "    <tr style=\"text-align: right;\">\n",
       "      <th></th>\n",
       "      <th>TRANSACTION_ID</th>\n",
       "      <th>TX_DATETIME</th>\n",
       "      <th>CUSTOMER_ID</th>\n",
       "      <th>TERMINAL_ID</th>\n",
       "      <th>TX_AMOUNT</th>\n",
       "      <th>TX_FRAUD</th>\n",
       "    </tr>\n",
       "  </thead>\n",
       "  <tbody>\n",
       "    <tr>\n",
       "      <th>0</th>\n",
       "      <td>59383</td>\n",
       "      <td>2021-08-01 00:04:37</td>\n",
       "      <td>323</td>\n",
       "      <td>217</td>\n",
       "      <td>4.60</td>\n",
       "      <td>0</td>\n",
       "    </tr>\n",
       "    <tr>\n",
       "      <th>1</th>\n",
       "      <td>59384</td>\n",
       "      <td>2021-08-01 00:12:10</td>\n",
       "      <td>6</td>\n",
       "      <td>429</td>\n",
       "      <td>8.61</td>\n",
       "      <td>0</td>\n",
       "    </tr>\n",
       "    <tr>\n",
       "      <th>2</th>\n",
       "      <td>59385</td>\n",
       "      <td>2021-08-01 00:12:34</td>\n",
       "      <td>714</td>\n",
       "      <td>1011</td>\n",
       "      <td>64.00</td>\n",
       "      <td>0</td>\n",
       "    </tr>\n",
       "    <tr>\n",
       "      <th>3</th>\n",
       "      <td>59386</td>\n",
       "      <td>2021-08-01 00:15:40</td>\n",
       "      <td>266</td>\n",
       "      <td>1969</td>\n",
       "      <td>12.72</td>\n",
       "      <td>0</td>\n",
       "    </tr>\n",
       "    <tr>\n",
       "      <th>4</th>\n",
       "      <td>59387</td>\n",
       "      <td>2021-08-01 00:16:01</td>\n",
       "      <td>890</td>\n",
       "      <td>1482</td>\n",
       "      <td>98.88</td>\n",
       "      <td>0</td>\n",
       "    </tr>\n",
       "    <tr>\n",
       "      <th>...</th>\n",
       "      <td>...</td>\n",
       "      <td>...</td>\n",
       "      <td>...</td>\n",
       "      <td>...</td>\n",
       "      <td>...</td>\n",
       "      <td>...</td>\n",
       "    </tr>\n",
       "    <tr>\n",
       "      <th>291226</th>\n",
       "      <td>350609</td>\n",
       "      <td>2021-12-30 23:33:02</td>\n",
       "      <td>221</td>\n",
       "      <td>41</td>\n",
       "      <td>61.26</td>\n",
       "      <td>0</td>\n",
       "    </tr>\n",
       "    <tr>\n",
       "      <th>291227</th>\n",
       "      <td>350610</td>\n",
       "      <td>2021-12-30 23:46:15</td>\n",
       "      <td>101</td>\n",
       "      <td>761</td>\n",
       "      <td>58.80</td>\n",
       "      <td>0</td>\n",
       "    </tr>\n",
       "    <tr>\n",
       "      <th>291228</th>\n",
       "      <td>350611</td>\n",
       "      <td>2021-12-30 23:54:38</td>\n",
       "      <td>7</td>\n",
       "      <td>1991</td>\n",
       "      <td>15.08</td>\n",
       "      <td>0</td>\n",
       "    </tr>\n",
       "    <tr>\n",
       "      <th>291229</th>\n",
       "      <td>350612</td>\n",
       "      <td>2021-12-30 23:56:36</td>\n",
       "      <td>161</td>\n",
       "      <td>1166</td>\n",
       "      <td>54.24</td>\n",
       "      <td>0</td>\n",
       "    </tr>\n",
       "    <tr>\n",
       "      <th>291230</th>\n",
       "      <td>350613</td>\n",
       "      <td>2021-12-30 23:58:21</td>\n",
       "      <td>618</td>\n",
       "      <td>1549</td>\n",
       "      <td>6.62</td>\n",
       "      <td>0</td>\n",
       "    </tr>\n",
       "  </tbody>\n",
       "</table>\n",
       "<p>291231 rows × 6 columns</p>\n",
       "</div>"
      ],
      "text/plain": [
       "        TRANSACTION_ID          TX_DATETIME  CUSTOMER_ID  TERMINAL_ID  \\\n",
       "0                59383  2021-08-01 00:04:37          323          217   \n",
       "1                59384  2021-08-01 00:12:10            6          429   \n",
       "2                59385  2021-08-01 00:12:34          714         1011   \n",
       "3                59386  2021-08-01 00:15:40          266         1969   \n",
       "4                59387  2021-08-01 00:16:01          890         1482   \n",
       "...                ...                  ...          ...          ...   \n",
       "291226          350609  2021-12-30 23:33:02          221           41   \n",
       "291227          350610  2021-12-30 23:46:15          101          761   \n",
       "291228          350611  2021-12-30 23:54:38            7         1991   \n",
       "291229          350612  2021-12-30 23:56:36          161         1166   \n",
       "291230          350613  2021-12-30 23:58:21          618         1549   \n",
       "\n",
       "        TX_AMOUNT  TX_FRAUD  \n",
       "0            4.60         0  \n",
       "1            8.61         0  \n",
       "2           64.00         0  \n",
       "3           12.72         0  \n",
       "4           98.88         0  \n",
       "...           ...       ...  \n",
       "291226      61.26         0  \n",
       "291227      58.80         0  \n",
       "291228      15.08         0  \n",
       "291229      54.24         0  \n",
       "291230       6.62         0  \n",
       "\n",
       "[291231 rows x 6 columns]"
      ]
     },
     "execution_count": 137,
     "metadata": {},
     "output_type": "execute_result"
    }
   ],
   "source": [
    "train_df"
   ]
  },
  {
   "cell_type": "code",
   "execution_count": 138,
   "id": "ca5a1b88",
   "metadata": {},
   "outputs": [
    {
     "data": {
      "text/html": [
       "<div>\n",
       "<style scoped>\n",
       "    .dataframe tbody tr th:only-of-type {\n",
       "        vertical-align: middle;\n",
       "    }\n",
       "\n",
       "    .dataframe tbody tr th {\n",
       "        vertical-align: top;\n",
       "    }\n",
       "\n",
       "    .dataframe thead th {\n",
       "        text-align: right;\n",
       "    }\n",
       "</style>\n",
       "<table border=\"1\" class=\"dataframe\">\n",
       "  <thead>\n",
       "    <tr style=\"text-align: right;\">\n",
       "      <th></th>\n",
       "      <th>CUSTOMER_ID</th>\n",
       "      <th>x_customer_id</th>\n",
       "      <th>y_customer_id</th>\n",
       "      <th>mean_amount</th>\n",
       "      <th>std_amount</th>\n",
       "      <th>mean_nb_tx_per_day</th>\n",
       "      <th>available_terminals</th>\n",
       "      <th>nb_terminals</th>\n",
       "    </tr>\n",
       "  </thead>\n",
       "  <tbody>\n",
       "    <tr>\n",
       "      <th>0</th>\n",
       "      <td>0</td>\n",
       "      <td>54.881350</td>\n",
       "      <td>71.518937</td>\n",
       "      <td>62.262521</td>\n",
       "      <td>31.131260</td>\n",
       "      <td>2.179533</td>\n",
       "      <td>[29, 87, 144, 241, 330, 858, 996, 1028, 1067, ...</td>\n",
       "      <td>22</td>\n",
       "    </tr>\n",
       "    <tr>\n",
       "      <th>1</th>\n",
       "      <td>1</td>\n",
       "      <td>42.365480</td>\n",
       "      <td>64.589411</td>\n",
       "      <td>46.570785</td>\n",
       "      <td>23.285393</td>\n",
       "      <td>3.567092</td>\n",
       "      <td>[5, 160, 242, 378, 431, 475, 571, 762, 876, 93...</td>\n",
       "      <td>20</td>\n",
       "    </tr>\n",
       "    <tr>\n",
       "      <th>2</th>\n",
       "      <td>2</td>\n",
       "      <td>96.366276</td>\n",
       "      <td>38.344152</td>\n",
       "      <td>80.213879</td>\n",
       "      <td>40.106939</td>\n",
       "      <td>2.115580</td>\n",
       "      <td>[316, 406, 447, 523, 968, 1200, 1318, 1365, 16...</td>\n",
       "      <td>10</td>\n",
       "    </tr>\n",
       "    <tr>\n",
       "      <th>3</th>\n",
       "      <td>3</td>\n",
       "      <td>56.804456</td>\n",
       "      <td>92.559664</td>\n",
       "      <td>11.748426</td>\n",
       "      <td>5.874213</td>\n",
       "      <td>0.348517</td>\n",
       "      <td>[65, 94, 113, 364, 401, 433, 485, 651, 672, 77...</td>\n",
       "      <td>17</td>\n",
       "    </tr>\n",
       "    <tr>\n",
       "      <th>4</th>\n",
       "      <td>4</td>\n",
       "      <td>2.021840</td>\n",
       "      <td>83.261985</td>\n",
       "      <td>78.924891</td>\n",
       "      <td>39.462446</td>\n",
       "      <td>3.480049</td>\n",
       "      <td>[372, 614, 774, 1362, 1446, 1564, 1637, 1939]</td>\n",
       "      <td>8</td>\n",
       "    </tr>\n",
       "    <tr>\n",
       "      <th>...</th>\n",
       "      <td>...</td>\n",
       "      <td>...</td>\n",
       "      <td>...</td>\n",
       "      <td>...</td>\n",
       "      <td>...</td>\n",
       "      <td>...</td>\n",
       "      <td>...</td>\n",
       "      <td>...</td>\n",
       "    </tr>\n",
       "    <tr>\n",
       "      <th>995</th>\n",
       "      <td>995</td>\n",
       "      <td>43.216661</td>\n",
       "      <td>36.225882</td>\n",
       "      <td>58.023111</td>\n",
       "      <td>29.011555</td>\n",
       "      <td>0.305376</td>\n",
       "      <td>[264, 309, 395, 412, 483, 637, 652, 656, 906, ...</td>\n",
       "      <td>17</td>\n",
       "    </tr>\n",
       "    <tr>\n",
       "      <th>996</th>\n",
       "      <td>996</td>\n",
       "      <td>4.034602</td>\n",
       "      <td>51.110309</td>\n",
       "      <td>7.707631</td>\n",
       "      <td>3.853816</td>\n",
       "      <td>0.238208</td>\n",
       "      <td>[32, 83, 194, 239, 280, 520, 570, 752, 1088, 1...</td>\n",
       "      <td>14</td>\n",
       "    </tr>\n",
       "    <tr>\n",
       "      <th>997</th>\n",
       "      <td>997</td>\n",
       "      <td>37.634146</td>\n",
       "      <td>6.177907</td>\n",
       "      <td>41.619615</td>\n",
       "      <td>20.809807</td>\n",
       "      <td>0.967002</td>\n",
       "      <td>[147, 148, 185, 413, 957, 1160, 1426, 1590, 16...</td>\n",
       "      <td>10</td>\n",
       "    </tr>\n",
       "    <tr>\n",
       "      <th>998</th>\n",
       "      <td>998</td>\n",
       "      <td>18.777030</td>\n",
       "      <td>40.467983</td>\n",
       "      <td>16.390871</td>\n",
       "      <td>8.195436</td>\n",
       "      <td>1.398557</td>\n",
       "      <td>[138, 577, 602, 825, 950, 966, 1095, 1157, 124...</td>\n",
       "      <td>21</td>\n",
       "    </tr>\n",
       "    <tr>\n",
       "      <th>999</th>\n",
       "      <td>999</td>\n",
       "      <td>43.487363</td>\n",
       "      <td>83.000295</td>\n",
       "      <td>93.616587</td>\n",
       "      <td>46.808294</td>\n",
       "      <td>1.233354</td>\n",
       "      <td>[119, 471, 486, 511, 589, 623, 753, 959, 1181,...</td>\n",
       "      <td>14</td>\n",
       "    </tr>\n",
       "  </tbody>\n",
       "</table>\n",
       "<p>1000 rows × 8 columns</p>\n",
       "</div>"
      ],
      "text/plain": [
       "     CUSTOMER_ID  x_customer_id  y_customer_id  mean_amount  std_amount  \\\n",
       "0              0      54.881350      71.518937    62.262521   31.131260   \n",
       "1              1      42.365480      64.589411    46.570785   23.285393   \n",
       "2              2      96.366276      38.344152    80.213879   40.106939   \n",
       "3              3      56.804456      92.559664    11.748426    5.874213   \n",
       "4              4       2.021840      83.261985    78.924891   39.462446   \n",
       "..           ...            ...            ...          ...         ...   \n",
       "995          995      43.216661      36.225882    58.023111   29.011555   \n",
       "996          996       4.034602      51.110309     7.707631    3.853816   \n",
       "997          997      37.634146       6.177907    41.619615   20.809807   \n",
       "998          998      18.777030      40.467983    16.390871    8.195436   \n",
       "999          999      43.487363      83.000295    93.616587   46.808294   \n",
       "\n",
       "     mean_nb_tx_per_day                                available_terminals  \\\n",
       "0              2.179533  [29, 87, 144, 241, 330, 858, 996, 1028, 1067, ...   \n",
       "1              3.567092  [5, 160, 242, 378, 431, 475, 571, 762, 876, 93...   \n",
       "2              2.115580  [316, 406, 447, 523, 968, 1200, 1318, 1365, 16...   \n",
       "3              0.348517  [65, 94, 113, 364, 401, 433, 485, 651, 672, 77...   \n",
       "4              3.480049      [372, 614, 774, 1362, 1446, 1564, 1637, 1939]   \n",
       "..                  ...                                                ...   \n",
       "995            0.305376  [264, 309, 395, 412, 483, 637, 652, 656, 906, ...   \n",
       "996            0.238208  [32, 83, 194, 239, 280, 520, 570, 752, 1088, 1...   \n",
       "997            0.967002  [147, 148, 185, 413, 957, 1160, 1426, 1590, 16...   \n",
       "998            1.398557  [138, 577, 602, 825, 950, 966, 1095, 1157, 124...   \n",
       "999            1.233354  [119, 471, 486, 511, 589, 623, 753, 959, 1181,...   \n",
       "\n",
       "     nb_terminals  \n",
       "0              22  \n",
       "1              20  \n",
       "2              10  \n",
       "3              17  \n",
       "4               8  \n",
       "..            ...  \n",
       "995            17  \n",
       "996            14  \n",
       "997            10  \n",
       "998            21  \n",
       "999            14  \n",
       "\n",
       "[1000 rows x 8 columns]"
      ]
     },
     "execution_count": 138,
     "metadata": {},
     "output_type": "execute_result"
    }
   ],
   "source": [
    "customer_df"
   ]
  },
  {
   "cell_type": "markdown",
   "id": "7eea26f9",
   "metadata": {},
   "source": [
    "## Exploratory Data Analysis\n",
    "\n",
    "1. Average number of transactions per customer \n",
    "2. Are we able to create cluster for the different transaction amount and the location\n",
    "3. How many terminals are visited by customers on average \n",
    "4. "
   ]
  },
  {
   "cell_type": "code",
   "execution_count": 139,
   "id": "05340a47",
   "metadata": {},
   "outputs": [
    {
     "data": {
      "text/plain": [
       "TRANSACTION_ID    0\n",
       "TX_DATETIME       0\n",
       "CUSTOMER_ID       0\n",
       "TERMINAL_ID       0\n",
       "TX_AMOUNT         0\n",
       "TX_FRAUD          0\n",
       "dtype: int64"
      ]
     },
     "execution_count": 139,
     "metadata": {},
     "output_type": "execute_result"
    }
   ],
   "source": [
    "## Check for missing values in the data frame \n",
    "train_df.isna().sum()"
   ]
  },
  {
   "cell_type": "code",
   "execution_count": 140,
   "id": "070ac8cc",
   "metadata": {},
   "outputs": [
    {
     "data": {
      "text/plain": [
       "CUSTOMER_ID            0\n",
       "x_customer_id          0\n",
       "y_customer_id          0\n",
       "mean_amount            0\n",
       "std_amount             0\n",
       "mean_nb_tx_per_day     0\n",
       "available_terminals    0\n",
       "nb_terminals           0\n",
       "dtype: int64"
      ]
     },
     "execution_count": 140,
     "metadata": {},
     "output_type": "execute_result"
    }
   ],
   "source": [
    "customer_df.isna().sum()"
   ]
  },
  {
   "cell_type": "code",
   "execution_count": 141,
   "id": "89f25c0e",
   "metadata": {},
   "outputs": [
    {
     "data": {
      "text/html": [
       "<div>\n",
       "<style scoped>\n",
       "    .dataframe tbody tr th:only-of-type {\n",
       "        vertical-align: middle;\n",
       "    }\n",
       "\n",
       "    .dataframe tbody tr th {\n",
       "        vertical-align: top;\n",
       "    }\n",
       "\n",
       "    .dataframe thead th {\n",
       "        text-align: right;\n",
       "    }\n",
       "</style>\n",
       "<table border=\"1\" class=\"dataframe\">\n",
       "  <thead>\n",
       "    <tr style=\"text-align: right;\">\n",
       "      <th></th>\n",
       "      <th>TRANSACTION_ID</th>\n",
       "      <th>CUSTOMER_ID</th>\n",
       "      <th>TERMINAL_ID</th>\n",
       "      <th>TX_AMOUNT</th>\n",
       "      <th>TX_FRAUD</th>\n",
       "    </tr>\n",
       "  </thead>\n",
       "  <tbody>\n",
       "    <tr>\n",
       "      <th>count</th>\n",
       "      <td>291231.000000</td>\n",
       "      <td>291231.000000</td>\n",
       "      <td>291231.000000</td>\n",
       "      <td>291231.000000</td>\n",
       "      <td>291231.000000</td>\n",
       "    </tr>\n",
       "    <tr>\n",
       "      <th>mean</th>\n",
       "      <td>204998.000000</td>\n",
       "      <td>496.256202</td>\n",
       "      <td>993.718526</td>\n",
       "      <td>53.182274</td>\n",
       "      <td>0.022601</td>\n",
       "    </tr>\n",
       "    <tr>\n",
       "      <th>std</th>\n",
       "      <td>84071.292461</td>\n",
       "      <td>285.274966</td>\n",
       "      <td>575.267551</td>\n",
       "      <td>39.573329</td>\n",
       "      <td>0.148627</td>\n",
       "    </tr>\n",
       "    <tr>\n",
       "      <th>min</th>\n",
       "      <td>59383.000000</td>\n",
       "      <td>0.000000</td>\n",
       "      <td>0.000000</td>\n",
       "      <td>0.000000</td>\n",
       "      <td>0.000000</td>\n",
       "    </tr>\n",
       "    <tr>\n",
       "      <th>25%</th>\n",
       "      <td>132190.500000</td>\n",
       "      <td>249.000000</td>\n",
       "      <td>496.000000</td>\n",
       "      <td>21.130000</td>\n",
       "      <td>0.000000</td>\n",
       "    </tr>\n",
       "    <tr>\n",
       "      <th>50%</th>\n",
       "      <td>204998.000000</td>\n",
       "      <td>498.000000</td>\n",
       "      <td>1000.000000</td>\n",
       "      <td>44.770000</td>\n",
       "      <td>0.000000</td>\n",
       "    </tr>\n",
       "    <tr>\n",
       "      <th>75%</th>\n",
       "      <td>277805.500000</td>\n",
       "      <td>741.000000</td>\n",
       "      <td>1483.000000</td>\n",
       "      <td>76.850000</td>\n",
       "      <td>0.000000</td>\n",
       "    </tr>\n",
       "    <tr>\n",
       "      <th>max</th>\n",
       "      <td>350613.000000</td>\n",
       "      <td>999.000000</td>\n",
       "      <td>1999.000000</td>\n",
       "      <td>291.150000</td>\n",
       "      <td>1.000000</td>\n",
       "    </tr>\n",
       "  </tbody>\n",
       "</table>\n",
       "</div>"
      ],
      "text/plain": [
       "       TRANSACTION_ID    CUSTOMER_ID    TERMINAL_ID      TX_AMOUNT  \\\n",
       "count   291231.000000  291231.000000  291231.000000  291231.000000   \n",
       "mean    204998.000000     496.256202     993.718526      53.182274   \n",
       "std      84071.292461     285.274966     575.267551      39.573329   \n",
       "min      59383.000000       0.000000       0.000000       0.000000   \n",
       "25%     132190.500000     249.000000     496.000000      21.130000   \n",
       "50%     204998.000000     498.000000    1000.000000      44.770000   \n",
       "75%     277805.500000     741.000000    1483.000000      76.850000   \n",
       "max     350613.000000     999.000000    1999.000000     291.150000   \n",
       "\n",
       "            TX_FRAUD  \n",
       "count  291231.000000  \n",
       "mean        0.022601  \n",
       "std         0.148627  \n",
       "min         0.000000  \n",
       "25%         0.000000  \n",
       "50%         0.000000  \n",
       "75%         0.000000  \n",
       "max         1.000000  "
      ]
     },
     "execution_count": 141,
     "metadata": {},
     "output_type": "execute_result"
    }
   ],
   "source": [
    "## Looking for outliers\n",
    "train_df.describe()"
   ]
  },
  {
   "cell_type": "code",
   "execution_count": 142,
   "id": "c2b6ad2a",
   "metadata": {},
   "outputs": [
    {
     "data": {
      "text/html": [
       "<div>\n",
       "<style scoped>\n",
       "    .dataframe tbody tr th:only-of-type {\n",
       "        vertical-align: middle;\n",
       "    }\n",
       "\n",
       "    .dataframe tbody tr th {\n",
       "        vertical-align: top;\n",
       "    }\n",
       "\n",
       "    .dataframe thead th {\n",
       "        text-align: right;\n",
       "    }\n",
       "</style>\n",
       "<table border=\"1\" class=\"dataframe\">\n",
       "  <thead>\n",
       "    <tr style=\"text-align: right;\">\n",
       "      <th></th>\n",
       "      <th>CUSTOMER_ID</th>\n",
       "      <th>x_customer_id</th>\n",
       "      <th>y_customer_id</th>\n",
       "      <th>mean_amount</th>\n",
       "      <th>std_amount</th>\n",
       "      <th>mean_nb_tx_per_day</th>\n",
       "      <th>nb_terminals</th>\n",
       "    </tr>\n",
       "  </thead>\n",
       "  <tbody>\n",
       "    <tr>\n",
       "      <th>count</th>\n",
       "      <td>1000.000000</td>\n",
       "      <td>1000.000000</td>\n",
       "      <td>1000.000000</td>\n",
       "      <td>1000.000000</td>\n",
       "      <td>1000.000000</td>\n",
       "      <td>1000.000000</td>\n",
       "      <td>1000.000000</td>\n",
       "    </tr>\n",
       "    <tr>\n",
       "      <th>mean</th>\n",
       "      <td>499.500000</td>\n",
       "      <td>51.318204</td>\n",
       "      <td>50.397990</td>\n",
       "      <td>51.550697</td>\n",
       "      <td>25.775348</td>\n",
       "      <td>1.956983</td>\n",
       "      <td>15.117000</td>\n",
       "    </tr>\n",
       "    <tr>\n",
       "      <th>std</th>\n",
       "      <td>288.819436</td>\n",
       "      <td>28.893939</td>\n",
       "      <td>28.785699</td>\n",
       "      <td>28.025746</td>\n",
       "      <td>14.012873</td>\n",
       "      <td>1.165512</td>\n",
       "      <td>4.255987</td>\n",
       "    </tr>\n",
       "    <tr>\n",
       "      <th>min</th>\n",
       "      <td>0.000000</td>\n",
       "      <td>0.007245</td>\n",
       "      <td>0.036734</td>\n",
       "      <td>5.063101</td>\n",
       "      <td>2.531550</td>\n",
       "      <td>0.000295</td>\n",
       "      <td>2.000000</td>\n",
       "    </tr>\n",
       "    <tr>\n",
       "      <th>25%</th>\n",
       "      <td>249.750000</td>\n",
       "      <td>27.099437</td>\n",
       "      <td>26.737835</td>\n",
       "      <td>27.596718</td>\n",
       "      <td>13.798359</td>\n",
       "      <td>0.931062</td>\n",
       "      <td>12.000000</td>\n",
       "    </tr>\n",
       "    <tr>\n",
       "      <th>50%</th>\n",
       "      <td>499.500000</td>\n",
       "      <td>50.601090</td>\n",
       "      <td>49.109879</td>\n",
       "      <td>51.596026</td>\n",
       "      <td>25.798013</td>\n",
       "      <td>1.886714</td>\n",
       "      <td>15.000000</td>\n",
       "    </tr>\n",
       "    <tr>\n",
       "      <th>75%</th>\n",
       "      <td>749.250000</td>\n",
       "      <td>76.422770</td>\n",
       "      <td>76.377724</td>\n",
       "      <td>75.304416</td>\n",
       "      <td>37.652208</td>\n",
       "      <td>2.994755</td>\n",
       "      <td>18.000000</td>\n",
       "    </tr>\n",
       "    <tr>\n",
       "      <th>max</th>\n",
       "      <td>999.000000</td>\n",
       "      <td>99.994897</td>\n",
       "      <td>99.996402</td>\n",
       "      <td>99.981815</td>\n",
       "      <td>49.990907</td>\n",
       "      <td>3.999725</td>\n",
       "      <td>28.000000</td>\n",
       "    </tr>\n",
       "  </tbody>\n",
       "</table>\n",
       "</div>"
      ],
      "text/plain": [
       "       CUSTOMER_ID  x_customer_id  y_customer_id  mean_amount   std_amount  \\\n",
       "count  1000.000000    1000.000000    1000.000000  1000.000000  1000.000000   \n",
       "mean    499.500000      51.318204      50.397990    51.550697    25.775348   \n",
       "std     288.819436      28.893939      28.785699    28.025746    14.012873   \n",
       "min       0.000000       0.007245       0.036734     5.063101     2.531550   \n",
       "25%     249.750000      27.099437      26.737835    27.596718    13.798359   \n",
       "50%     499.500000      50.601090      49.109879    51.596026    25.798013   \n",
       "75%     749.250000      76.422770      76.377724    75.304416    37.652208   \n",
       "max     999.000000      99.994897      99.996402    99.981815    49.990907   \n",
       "\n",
       "       mean_nb_tx_per_day  nb_terminals  \n",
       "count         1000.000000   1000.000000  \n",
       "mean             1.956983     15.117000  \n",
       "std              1.165512      4.255987  \n",
       "min              0.000295      2.000000  \n",
       "25%              0.931062     12.000000  \n",
       "50%              1.886714     15.000000  \n",
       "75%              2.994755     18.000000  \n",
       "max              3.999725     28.000000  "
      ]
     },
     "execution_count": 142,
     "metadata": {},
     "output_type": "execute_result"
    }
   ],
   "source": [
    "customer_df.describe()"
   ]
  },
  {
   "cell_type": "code",
   "execution_count": 143,
   "id": "ee17f19b",
   "metadata": {},
   "outputs": [
    {
     "data": {
      "text/plain": [
       "0    0.977399\n",
       "1    0.022601\n",
       "Name: TX_FRAUD, dtype: float64"
      ]
     },
     "execution_count": 143,
     "metadata": {},
     "output_type": "execute_result"
    }
   ],
   "source": [
    "## Distribution of fraudulent vs non fraudulent transactions\n",
    "train_df['TX_FRAUD'].value_counts(normalize = 'True')"
   ]
  },
  {
   "cell_type": "markdown",
   "id": "c6ea6e4d",
   "metadata": {},
   "source": [
    "Immediately, the dataset appears to have no missing data. As expected the dataset is highly imbalanced. So we have to look into techniques that will create synthetic data for the negative transactions to balance out the dataset. \n",
    "\n",
    "The first question we want to answer if we can find significant cluster in our customer file. If we are able to find significant clustering, then we cann use this feature in place of a number of features in the original customer dataset and reduce our classifier's complexity."
   ]
  },
  {
   "cell_type": "code",
   "execution_count": 144,
   "id": "8517b76a",
   "metadata": {},
   "outputs": [],
   "source": [
    "## Clustering the customers \n",
    "from sklearn.cluster import KMeans"
   ]
  },
  {
   "cell_type": "code",
   "execution_count": 145,
   "id": "fb6e08a6",
   "metadata": {},
   "outputs": [
    {
     "name": "stderr",
     "output_type": "stream",
     "text": [
      "C:\\Users\\Agnes\\anaconda3\\lib\\site-packages\\sklearn\\cluster\\_kmeans.py:1382: UserWarning: KMeans is known to have a memory leak on Windows with MKL, when there are less chunks than available threads. You can avoid it by setting the environment variable OMP_NUM_THREADS=4.\n",
      "  warnings.warn(\n"
     ]
    }
   ],
   "source": [
    "## feature engineering for the knn model \n",
    "X = customer_df.copy()\n",
    "X = X.drop(columns = 'available_terminals')\n",
    "\n",
    "## fit the clustering model\n",
    "model = KMeans(n_clusters = 5, n_init = 'auto',random_state = 42).fit(X)"
   ]
  },
  {
   "cell_type": "code",
   "execution_count": 146,
   "id": "6a59f071",
   "metadata": {},
   "outputs": [
    {
     "data": {
      "text/html": [
       "<div>\n",
       "<style scoped>\n",
       "    .dataframe tbody tr th:only-of-type {\n",
       "        vertical-align: middle;\n",
       "    }\n",
       "\n",
       "    .dataframe tbody tr th {\n",
       "        vertical-align: top;\n",
       "    }\n",
       "\n",
       "    .dataframe thead th {\n",
       "        text-align: right;\n",
       "    }\n",
       "</style>\n",
       "<table border=\"1\" class=\"dataframe\">\n",
       "  <thead>\n",
       "    <tr style=\"text-align: right;\">\n",
       "      <th></th>\n",
       "      <th>CUSTOMER_ID</th>\n",
       "      <th>x_customer_id</th>\n",
       "      <th>y_customer_id</th>\n",
       "      <th>mean_amount</th>\n",
       "      <th>std_amount</th>\n",
       "      <th>mean_nb_tx_per_day</th>\n",
       "      <th>nb_terminals</th>\n",
       "    </tr>\n",
       "    <tr>\n",
       "      <th>cluster</th>\n",
       "      <th></th>\n",
       "      <th></th>\n",
       "      <th></th>\n",
       "      <th></th>\n",
       "      <th></th>\n",
       "      <th></th>\n",
       "      <th></th>\n",
       "    </tr>\n",
       "  </thead>\n",
       "  <tbody>\n",
       "    <tr>\n",
       "      <th>0</th>\n",
       "      <td>105.0</td>\n",
       "      <td>49.883358</td>\n",
       "      <td>48.233606</td>\n",
       "      <td>52.324323</td>\n",
       "      <td>26.162161</td>\n",
       "      <td>1.962185</td>\n",
       "      <td>15.061611</td>\n",
       "    </tr>\n",
       "    <tr>\n",
       "      <th>1</th>\n",
       "      <td>517.0</td>\n",
       "      <td>54.084981</td>\n",
       "      <td>52.306988</td>\n",
       "      <td>48.472673</td>\n",
       "      <td>24.236336</td>\n",
       "      <td>1.897456</td>\n",
       "      <td>15.088670</td>\n",
       "    </tr>\n",
       "    <tr>\n",
       "      <th>2</th>\n",
       "      <td>906.5</td>\n",
       "      <td>48.524822</td>\n",
       "      <td>49.594657</td>\n",
       "      <td>49.708980</td>\n",
       "      <td>24.854490</td>\n",
       "      <td>1.858759</td>\n",
       "      <td>15.204301</td>\n",
       "    </tr>\n",
       "    <tr>\n",
       "      <th>3</th>\n",
       "      <td>313.0</td>\n",
       "      <td>53.287557</td>\n",
       "      <td>53.579226</td>\n",
       "      <td>52.204917</td>\n",
       "      <td>26.102459</td>\n",
       "      <td>2.034649</td>\n",
       "      <td>14.887805</td>\n",
       "    </tr>\n",
       "    <tr>\n",
       "      <th>4</th>\n",
       "      <td>716.0</td>\n",
       "      <td>50.584605</td>\n",
       "      <td>48.174526</td>\n",
       "      <td>54.986839</td>\n",
       "      <td>27.493420</td>\n",
       "      <td>2.025364</td>\n",
       "      <td>15.364103</td>\n",
       "    </tr>\n",
       "  </tbody>\n",
       "</table>\n",
       "</div>"
      ],
      "text/plain": [
       "         CUSTOMER_ID  x_customer_id  y_customer_id  mean_amount  std_amount  \\\n",
       "cluster                                                                       \n",
       "0              105.0      49.883358      48.233606    52.324323   26.162161   \n",
       "1              517.0      54.084981      52.306988    48.472673   24.236336   \n",
       "2              906.5      48.524822      49.594657    49.708980   24.854490   \n",
       "3              313.0      53.287557      53.579226    52.204917   26.102459   \n",
       "4              716.0      50.584605      48.174526    54.986839   27.493420   \n",
       "\n",
       "         mean_nb_tx_per_day  nb_terminals  \n",
       "cluster                                    \n",
       "0                  1.962185     15.061611  \n",
       "1                  1.897456     15.088670  \n",
       "2                  1.858759     15.204301  \n",
       "3                  2.034649     14.887805  \n",
       "4                  2.025364     15.364103  "
      ]
     },
     "execution_count": 146,
     "metadata": {},
     "output_type": "execute_result"
    }
   ],
   "source": [
    "# Add cluster value to the model \n",
    "X['cluster'] = model.labels_\n",
    "X['cluster'] = X['cluster'].astype('category')\n",
    "## Get the mean of each cluster\n",
    "X.groupby(['cluster']).mean()"
   ]
  },
  {
   "cell_type": "code",
   "execution_count": 147,
   "id": "047193f5",
   "metadata": {},
   "outputs": [
    {
     "data": {
      "image/png": "[encoded data removed]",
      "text/plain": [
       "<Figure size 432x288 with 1 Axes>"
      ]
     },
     "metadata": {
      "needs_background": "light"
     },
     "output_type": "display_data"
    },
    {
     "data": {
      "image/png": "[encoded data removed]",
      "text/plain": [
       "<Figure size 432x288 with 1 Axes>"
      ]
     },
     "metadata": {
      "needs_background": "light"
     },
     "output_type": "display_data"
    },
    {
     "data": {
      "image/png": "[encoded data removed]",
      "text/plain": [
       "<Figure size 432x288 with 1 Axes>"
      ]
     },
     "metadata": {
      "needs_background": "light"
     },
     "output_type": "display_data"
    },
    {
     "data": {
      "image/png": "[encoded data removed]",
      "text/plain": [
       "<Figure size 432x288 with 1 Axes>"
      ]
     },
     "metadata": {
      "needs_background": "light"
     },
     "output_type": "display_data"
    }
   ],
   "source": [
    "## Boxplot distribution by cluster \n",
    "columns = ['mean_amount', 'std_amount','mean_nb_tx_per_day','nb_terminals']\n",
    "for col in columns:\n",
    "    plt.figure()\n",
    "    sns.boxplot(data = X, x = 'cluster', y = col).set(title = f'Boxplot distribution of {col}' )"
   ]
  },
  {
   "cell_type": "markdown",
   "id": "85fb9ba3",
   "metadata": {},
   "source": [
    "Based on the boxplot, we don't see really any significant differences between the clusters we have uncovered. This suggests including cluster information will not help us significantly when we develop our classifier. Let's also examine the distribution for our different features."
   ]
  },
  {
   "cell_type": "code",
   "execution_count": 148,
   "id": "a3ad59be",
   "metadata": {},
   "outputs": [
    {
     "data": {
      "text/plain": [
       "<Figure size 432x288 with 0 Axes>"
      ]
     },
     "metadata": {},
     "output_type": "display_data"
    },
    {
     "data": {
      "image/png": "[encoded data removed]",
      "text/plain": [
       "<Figure size 1080x216 with 5 Axes>"
      ]
     },
     "metadata": {
      "needs_background": "light"
     },
     "output_type": "display_data"
    },
    {
     "data": {
      "text/plain": [
       "<Figure size 432x288 with 0 Axes>"
      ]
     },
     "metadata": {},
     "output_type": "display_data"
    },
    {
     "data": {
      "image/png": "[encoded data removed]",
      "text/plain": [
       "<Figure size 1080x216 with 5 Axes>"
      ]
     },
     "metadata": {
      "needs_background": "light"
     },
     "output_type": "display_data"
    },
    {
     "data": {
      "text/plain": [
       "<Figure size 432x288 with 0 Axes>"
      ]
     },
     "metadata": {},
     "output_type": "display_data"
    },
    {
     "data": {
      "image/png": "[encoded data removed]",
      "text/plain": [
       "<Figure size 1080x216 with 5 Axes>"
      ]
     },
     "metadata": {
      "needs_background": "light"
     },
     "output_type": "display_data"
    },
    {
     "data": {
      "text/plain": [
       "<Figure size 432x288 with 0 Axes>"
      ]
     },
     "metadata": {},
     "output_type": "display_data"
    },
    {
     "data": {
      "image/png": "[encoded data removed]",
      "text/plain": [
       "<Figure size 1080x216 with 5 Axes>"
      ]
     },
     "metadata": {
      "needs_background": "light"
     },
     "output_type": "display_data"
    }
   ],
   "source": [
    "for col in columns:\n",
    "    plt.figure()\n",
    "    ax = sns.FacetGrid(data = X, col = 'cluster')  \n",
    "    ax.map_dataframe(sns.histplot, x = col)\n",
    "    ax.set(title = f'Histogram of {col}',label ='col')"
   ]
  },
  {
   "cell_type": "markdown",
   "id": "bc8824cc",
   "metadata": {},
   "source": [
    "All the features apart from nb_terminals seem to have a fairly uniform distribution\n",
    "\n",
    "The next question we will like to resolve is the imbalance in our dataset. This intervenes when we have to split our dataset in training and test set and also when we are training our models."
   ]
  },
  {
   "cell_type": "code",
   "execution_count": null,
   "id": "52730df9",
   "metadata": {
    "scrolled": true
   },
   "outputs": [],
   "source": []
  },
  {
   "cell_type": "code",
   "execution_count": 150,
   "id": "cb74b6bf",
   "metadata": {},
   "outputs": [],
   "source": [
    "## Splitting data into training and test sets:\n",
    "from sklearn.model_selection import train_test_split\n",
    "X = train_df.loc[:,['TRANSACTION_ID','TX_DATETIME', 'CUSTOMER_ID', 'TERMINAL_ID','TX_AMOUNT' ]]\n",
    "y = train_df.loc[:,'TX_FRAUD']\n",
    "\n",
    "##  Transform date into datetime \n",
    "X['TX_DATETIME'] = pd.to_datetime(X['TX_DATETIME'])\n",
    "\n",
    "## Create a month feature\n",
    "X['TX_DATETIME_MONTH'] = X['TX_DATETIME'].dt.month\n",
    "\n",
    "## Create a day feature \n",
    "X['TX_DATETIME_DAY'] = X['TX_DATETIME'].dt.day\n",
    "\n",
    "## Create Hour feature \n",
    "X['TX_DATETIME_HOUR'] = X['TX_DATETIME'].dt.hour\n",
    "\n",
    "## Drop the date feature from X\n",
    "X = X.drop(columns = 'TX_DATETIME')\n",
    "\n",
    "X_train,X_test, y_train, y_test = train_test_split(X,y,shuffle = False, random_state = 42)"
   ]
  },
  {
   "cell_type": "code",
   "execution_count": 152,
   "id": "ef2c9873",
   "metadata": {},
   "outputs": [
    {
     "data": {
      "text/html": [
       "<div>\n",
       "<style scoped>\n",
       "    .dataframe tbody tr th:only-of-type {\n",
       "        vertical-align: middle;\n",
       "    }\n",
       "\n",
       "    .dataframe tbody tr th {\n",
       "        vertical-align: top;\n",
       "    }\n",
       "\n",
       "    .dataframe thead th {\n",
       "        text-align: right;\n",
       "    }\n",
       "</style>\n",
       "<table border=\"1\" class=\"dataframe\">\n",
       "  <thead>\n",
       "    <tr style=\"text-align: right;\">\n",
       "      <th></th>\n",
       "      <th>TRANSACTION_ID</th>\n",
       "      <th>CUSTOMER_ID</th>\n",
       "      <th>TERMINAL_ID</th>\n",
       "      <th>TX_AMOUNT</th>\n",
       "      <th>TX_DATETIME_MONTH</th>\n",
       "      <th>TX_DATETIME_DAY</th>\n",
       "      <th>TX_DATETIME_HOUR</th>\n",
       "    </tr>\n",
       "  </thead>\n",
       "  <tbody>\n",
       "    <tr>\n",
       "      <th>0</th>\n",
       "      <td>59383</td>\n",
       "      <td>323</td>\n",
       "      <td>217</td>\n",
       "      <td>4.60</td>\n",
       "      <td>8</td>\n",
       "      <td>1</td>\n",
       "      <td>0</td>\n",
       "    </tr>\n",
       "    <tr>\n",
       "      <th>1</th>\n",
       "      <td>59384</td>\n",
       "      <td>6</td>\n",
       "      <td>429</td>\n",
       "      <td>8.61</td>\n",
       "      <td>8</td>\n",
       "      <td>1</td>\n",
       "      <td>0</td>\n",
       "    </tr>\n",
       "    <tr>\n",
       "      <th>2</th>\n",
       "      <td>59385</td>\n",
       "      <td>714</td>\n",
       "      <td>1011</td>\n",
       "      <td>64.00</td>\n",
       "      <td>8</td>\n",
       "      <td>1</td>\n",
       "      <td>0</td>\n",
       "    </tr>\n",
       "    <tr>\n",
       "      <th>3</th>\n",
       "      <td>59386</td>\n",
       "      <td>266</td>\n",
       "      <td>1969</td>\n",
       "      <td>12.72</td>\n",
       "      <td>8</td>\n",
       "      <td>1</td>\n",
       "      <td>0</td>\n",
       "    </tr>\n",
       "    <tr>\n",
       "      <th>4</th>\n",
       "      <td>59387</td>\n",
       "      <td>890</td>\n",
       "      <td>1482</td>\n",
       "      <td>98.88</td>\n",
       "      <td>8</td>\n",
       "      <td>1</td>\n",
       "      <td>0</td>\n",
       "    </tr>\n",
       "    <tr>\n",
       "      <th>...</th>\n",
       "      <td>...</td>\n",
       "      <td>...</td>\n",
       "      <td>...</td>\n",
       "      <td>...</td>\n",
       "      <td>...</td>\n",
       "      <td>...</td>\n",
       "      <td>...</td>\n",
       "    </tr>\n",
       "    <tr>\n",
       "      <th>218418</th>\n",
       "      <td>277801</td>\n",
       "      <td>439</td>\n",
       "      <td>721</td>\n",
       "      <td>30.83</td>\n",
       "      <td>11</td>\n",
       "      <td>23</td>\n",
       "      <td>6</td>\n",
       "    </tr>\n",
       "    <tr>\n",
       "      <th>218419</th>\n",
       "      <td>277802</td>\n",
       "      <td>165</td>\n",
       "      <td>1951</td>\n",
       "      <td>20.10</td>\n",
       "      <td>11</td>\n",
       "      <td>23</td>\n",
       "      <td>6</td>\n",
       "    </tr>\n",
       "    <tr>\n",
       "      <th>218420</th>\n",
       "      <td>277803</td>\n",
       "      <td>887</td>\n",
       "      <td>1548</td>\n",
       "      <td>56.36</td>\n",
       "      <td>11</td>\n",
       "      <td>23</td>\n",
       "      <td>6</td>\n",
       "    </tr>\n",
       "    <tr>\n",
       "      <th>218421</th>\n",
       "      <td>277804</td>\n",
       "      <td>475</td>\n",
       "      <td>1174</td>\n",
       "      <td>61.50</td>\n",
       "      <td>11</td>\n",
       "      <td>23</td>\n",
       "      <td>6</td>\n",
       "    </tr>\n",
       "    <tr>\n",
       "      <th>218422</th>\n",
       "      <td>277805</td>\n",
       "      <td>497</td>\n",
       "      <td>99</td>\n",
       "      <td>24.94</td>\n",
       "      <td>11</td>\n",
       "      <td>23</td>\n",
       "      <td>6</td>\n",
       "    </tr>\n",
       "  </tbody>\n",
       "</table>\n",
       "<p>218423 rows × 7 columns</p>\n",
       "</div>"
      ],
      "text/plain": [
       "        TRANSACTION_ID  CUSTOMER_ID  TERMINAL_ID  TX_AMOUNT  \\\n",
       "0                59383          323          217       4.60   \n",
       "1                59384            6          429       8.61   \n",
       "2                59385          714         1011      64.00   \n",
       "3                59386          266         1969      12.72   \n",
       "4                59387          890         1482      98.88   \n",
       "...                ...          ...          ...        ...   \n",
       "218418          277801          439          721      30.83   \n",
       "218419          277802          165         1951      20.10   \n",
       "218420          277803          887         1548      56.36   \n",
       "218421          277804          475         1174      61.50   \n",
       "218422          277805          497           99      24.94   \n",
       "\n",
       "        TX_DATETIME_MONTH  TX_DATETIME_DAY  TX_DATETIME_HOUR  \n",
       "0                       8                1                 0  \n",
       "1                       8                1                 0  \n",
       "2                       8                1                 0  \n",
       "3                       8                1                 0  \n",
       "4                       8                1                 0  \n",
       "...                   ...              ...               ...  \n",
       "218418                 11               23                 6  \n",
       "218419                 11               23                 6  \n",
       "218420                 11               23                 6  \n",
       "218421                 11               23                 6  \n",
       "218422                 11               23                 6  \n",
       "\n",
       "[218423 rows x 7 columns]"
      ]
     },
     "execution_count": 152,
     "metadata": {},
     "output_type": "execute_result"
    }
   ],
   "source": [
    "X_train"
   ]
  },
  {
   "cell_type": "code",
   "execution_count": 153,
   "id": "dd509377",
   "metadata": {},
   "outputs": [
    {
     "data": {
      "text/plain": [
       "0    0.977507\n",
       "1    0.022493\n",
       "Name: TX_FRAUD, dtype: float64"
      ]
     },
     "execution_count": 153,
     "metadata": {},
     "output_type": "execute_result"
    }
   ],
   "source": [
    "y_train.value_counts(normalize = True)"
   ]
  },
  {
   "cell_type": "code",
   "execution_count": 154,
   "id": "44bfd5a7",
   "metadata": {},
   "outputs": [
    {
     "data": {
      "text/plain": [
       "0    0.977077\n",
       "1    0.022923\n",
       "Name: TX_FRAUD, dtype: float64"
      ]
     },
     "execution_count": 154,
     "metadata": {},
     "output_type": "execute_result"
    }
   ],
   "source": [
    "y_test.value_counts(normalize = True)"
   ]
  },
  {
   "cell_type": "code",
   "execution_count": 155,
   "id": "b087e889",
   "metadata": {},
   "outputs": [],
   "source": [
    " ## transform the dataset\n",
    "oversample = SMOTE()\n",
    "X_train_oversample, y_train_oversample = oversample.fit_resample(X_train, y_train)"
   ]
  },
  {
   "cell_type": "code",
   "execution_count": 156,
   "id": "787b378b",
   "metadata": {},
   "outputs": [
    {
     "data": {
      "text/html": [
       "<div>\n",
       "<style scoped>\n",
       "    .dataframe tbody tr th:only-of-type {\n",
       "        vertical-align: middle;\n",
       "    }\n",
       "\n",
       "    .dataframe tbody tr th {\n",
       "        vertical-align: top;\n",
       "    }\n",
       "\n",
       "    .dataframe thead th {\n",
       "        text-align: right;\n",
       "    }\n",
       "</style>\n",
       "<table border=\"1\" class=\"dataframe\">\n",
       "  <thead>\n",
       "    <tr style=\"text-align: right;\">\n",
       "      <th></th>\n",
       "      <th>TRANSACTION_ID</th>\n",
       "      <th>CUSTOMER_ID</th>\n",
       "      <th>TERMINAL_ID</th>\n",
       "      <th>TX_AMOUNT</th>\n",
       "      <th>TX_DATETIME_MONTH</th>\n",
       "      <th>TX_DATETIME_DAY</th>\n",
       "      <th>TX_DATETIME_HOUR</th>\n",
       "    </tr>\n",
       "  </thead>\n",
       "  <tbody>\n",
       "    <tr>\n",
       "      <th>0</th>\n",
       "      <td>59383</td>\n",
       "      <td>323</td>\n",
       "      <td>217</td>\n",
       "      <td>4.600000</td>\n",
       "      <td>8</td>\n",
       "      <td>1</td>\n",
       "      <td>0</td>\n",
       "    </tr>\n",
       "    <tr>\n",
       "      <th>1</th>\n",
       "      <td>59384</td>\n",
       "      <td>6</td>\n",
       "      <td>429</td>\n",
       "      <td>8.610000</td>\n",
       "      <td>8</td>\n",
       "      <td>1</td>\n",
       "      <td>0</td>\n",
       "    </tr>\n",
       "    <tr>\n",
       "      <th>2</th>\n",
       "      <td>59385</td>\n",
       "      <td>714</td>\n",
       "      <td>1011</td>\n",
       "      <td>64.000000</td>\n",
       "      <td>8</td>\n",
       "      <td>1</td>\n",
       "      <td>0</td>\n",
       "    </tr>\n",
       "    <tr>\n",
       "      <th>3</th>\n",
       "      <td>59386</td>\n",
       "      <td>266</td>\n",
       "      <td>1969</td>\n",
       "      <td>12.720000</td>\n",
       "      <td>8</td>\n",
       "      <td>1</td>\n",
       "      <td>0</td>\n",
       "    </tr>\n",
       "    <tr>\n",
       "      <th>4</th>\n",
       "      <td>59387</td>\n",
       "      <td>890</td>\n",
       "      <td>1482</td>\n",
       "      <td>98.880000</td>\n",
       "      <td>8</td>\n",
       "      <td>1</td>\n",
       "      <td>0</td>\n",
       "    </tr>\n",
       "    <tr>\n",
       "      <th>...</th>\n",
       "      <td>...</td>\n",
       "      <td>...</td>\n",
       "      <td>...</td>\n",
       "      <td>...</td>\n",
       "      <td>...</td>\n",
       "      <td>...</td>\n",
       "      <td>...</td>\n",
       "    </tr>\n",
       "    <tr>\n",
       "      <th>427015</th>\n",
       "      <td>86408</td>\n",
       "      <td>792</td>\n",
       "      <td>321</td>\n",
       "      <td>111.912055</td>\n",
       "      <td>8</td>\n",
       "      <td>15</td>\n",
       "      <td>6</td>\n",
       "    </tr>\n",
       "    <tr>\n",
       "      <th>427016</th>\n",
       "      <td>220846</td>\n",
       "      <td>586</td>\n",
       "      <td>1059</td>\n",
       "      <td>55.494308</td>\n",
       "      <td>10</td>\n",
       "      <td>24</td>\n",
       "      <td>11</td>\n",
       "    </tr>\n",
       "    <tr>\n",
       "      <th>427017</th>\n",
       "      <td>83317</td>\n",
       "      <td>805</td>\n",
       "      <td>1328</td>\n",
       "      <td>19.984721</td>\n",
       "      <td>8</td>\n",
       "      <td>13</td>\n",
       "      <td>12</td>\n",
       "    </tr>\n",
       "    <tr>\n",
       "      <th>427018</th>\n",
       "      <td>174692</td>\n",
       "      <td>392</td>\n",
       "      <td>1493</td>\n",
       "      <td>12.739517</td>\n",
       "      <td>9</td>\n",
       "      <td>30</td>\n",
       "      <td>7</td>\n",
       "    </tr>\n",
       "    <tr>\n",
       "      <th>427019</th>\n",
       "      <td>186228</td>\n",
       "      <td>648</td>\n",
       "      <td>845</td>\n",
       "      <td>32.479339</td>\n",
       "      <td>10</td>\n",
       "      <td>6</td>\n",
       "      <td>7</td>\n",
       "    </tr>\n",
       "  </tbody>\n",
       "</table>\n",
       "<p>427020 rows × 7 columns</p>\n",
       "</div>"
      ],
      "text/plain": [
       "        TRANSACTION_ID  CUSTOMER_ID  TERMINAL_ID   TX_AMOUNT  \\\n",
       "0                59383          323          217    4.600000   \n",
       "1                59384            6          429    8.610000   \n",
       "2                59385          714         1011   64.000000   \n",
       "3                59386          266         1969   12.720000   \n",
       "4                59387          890         1482   98.880000   \n",
       "...                ...          ...          ...         ...   \n",
       "427015           86408          792          321  111.912055   \n",
       "427016          220846          586         1059   55.494308   \n",
       "427017           83317          805         1328   19.984721   \n",
       "427018          174692          392         1493   12.739517   \n",
       "427019          186228          648          845   32.479339   \n",
       "\n",
       "        TX_DATETIME_MONTH  TX_DATETIME_DAY  TX_DATETIME_HOUR  \n",
       "0                       8                1                 0  \n",
       "1                       8                1                 0  \n",
       "2                       8                1                 0  \n",
       "3                       8                1                 0  \n",
       "4                       8                1                 0  \n",
       "...                   ...              ...               ...  \n",
       "427015                  8               15                 6  \n",
       "427016                 10               24                11  \n",
       "427017                  8               13                12  \n",
       "427018                  9               30                 7  \n",
       "427019                 10                6                 7  \n",
       "\n",
       "[427020 rows x 7 columns]"
      ]
     },
     "execution_count": 156,
     "metadata": {},
     "output_type": "execute_result"
    }
   ],
   "source": [
    "X_train_oversample"
   ]
  },
  {
   "cell_type": "markdown",
   "id": "4d417343",
   "metadata": {},
   "source": [
    "Now that we have increased our dataset, let's test a couple of models and see what the accuracy is.\n",
    "\n",
    "## Decision Tree \n",
    "\n",
    "The first model we are going to try is a simple decision tree. This will serve as a baseline for the other models we will explore later on."
   ]
  },
  {
   "cell_type": "code",
   "execution_count": 157,
   "id": "18108dc7",
   "metadata": {},
   "outputs": [
    {
     "name": "stdout",
     "output_type": "stream",
     "text": [
      "The precision score is :  0.073\n",
      "\n",
      "\n",
      "Feature TRANSACTION_ID :   importance:0.3702534257164854\n",
      "Feature CUSTOMER_ID :   importance:0.0922230844220192\n",
      "Feature TERMINAL_ID :   importance:0.28788221335839975\n",
      "Feature TX_AMOUNT :   importance:0.13599218612196678\n",
      "Feature TX_DATETIME_MONTH :   importance:0.011029645306351858\n",
      "Feature TX_DATETIME_DAY :   importance:0.0592811808163266\n",
      "Feature TX_DATETIME_HOUR :   importance:0.04333826425845045\n"
     ]
    }
   ],
   "source": [
    "## import decision tree model\n",
    "from sklearn.tree import DecisionTreeClassifier\n",
    "\n",
    "## First we use the initial datasets without oversampling\n",
    "DT = DecisionTreeClassifier(random_state = 42).fit(X_train,y_train)\n",
    "\n",
    "##Make predictions based on fitted model\n",
    "y_predict = DT.predict(X_test)\n",
    "\n",
    "## Evaluate the model using precision\n",
    "from sklearn.metrics import precision_score\n",
    "precision = precision_score(y_test,y_predict)\n",
    "\n",
    "print(f\"The precision score is :  {precision :.3f}\" )\n",
    "print(\"\\n\")\n",
    "## Feature importances \n",
    "for i,v in zip(DT.feature_names_in_,DT.feature_importances_):\n",
    "    print(f\"Feature {i} :   importance:{v}\")"
   ]
  },
  {
   "cell_type": "code",
   "execution_count": 158,
   "id": "4cbb8b83",
   "metadata": {},
   "outputs": [
    {
     "name": "stdout",
     "output_type": "stream",
     "text": [
      "The precision score is :  0.025\n",
      "\n",
      "\n",
      "Feature TRANSACTION_ID :   importance:0.3460153619445895\n",
      "Feature CUSTOMER_ID :   importance:0.1808496874405331\n",
      "Feature TERMINAL_ID :   importance:0.15725369613864584\n",
      "Feature TX_AMOUNT :   importance:0.1292736064312942\n",
      "Feature TX_DATETIME_MONTH :   importance:0.002217337403066467\n",
      "Feature TX_DATETIME_DAY :   importance:0.0854965586500187\n",
      "Feature TX_DATETIME_HOUR :   importance:0.09889375199185231\n"
     ]
    }
   ],
   "source": [
    "## With oversampling\n",
    "DT = DecisionTreeClassifier(random_state = 42).fit(X_train_oversample,y_train_oversample)\n",
    "\n",
    "##Make predictions based on fitted model\n",
    "y_predict = DT.predict(X_test)\n",
    "\n",
    "## Evaluate the model using precision\n",
    "from sklearn.metrics import precision_score\n",
    "precision = precision_score(y_test,y_predict)\n",
    "\n",
    "print(f\"The precision score is :  {precision :.3f}\" )\n",
    "\n",
    "print(\"\\n\")\n",
    "\n",
    "## Feature importances \n",
    "for i,v in zip(DT.feature_names_in_,DT.feature_importances_):\n",
    "    print(f\"Feature {i} :   importance:{v}\")"
   ]
  },
  {
   "cell_type": "markdown",
   "id": "8650bfab",
   "metadata": {},
   "source": [
    "Using the augmented dataset yields worse outcomes compared to the original score. This is different than what we expected. Based on the feature importances, Transaction ID,Terminal ID "
   ]
  },
  {
   "cell_type": "markdown",
   "id": "c14d3fbb",
   "metadata": {},
   "source": [
    "## Random Forest "
   ]
  },
  {
   "cell_type": "code",
   "execution_count": 222,
   "id": "2cc40702",
   "metadata": {},
   "outputs": [],
   "source": [
    "def make_predictions(model,X_train,y_train,X_test,y_test):\n",
    "    ## Fit the model \n",
    "    model.fit(X_train,y_train)\n",
    "    \n",
    "    ##Make predictions\n",
    "    y_predict = model.predict(X_test)\n",
    "    y_train_predict = model.predict(X_train)\n",
    "    \n",
    "    ##Compute precision\n",
    "    precision = precision_score(y_test,y_predict)\n",
    "    train_precision = precision_score(y_train,y_train_predict)\n",
    "    print(f\"The training set precision score is : {train_precision:.3f}\")\n",
    "    print(f\"The test precision score is :  {precision :.3f}\" )\n",
    "    \n",
    "    return model,y_predict, precision"
   ]
  },
  {
   "cell_type": "code",
   "execution_count": 223,
   "id": "08dd9572",
   "metadata": {},
   "outputs": [
    {
     "name": "stdout",
     "output_type": "stream",
     "text": [
      "The training set precision score is : 0.980\n",
      "The test precision score is :  0.750\n",
      "\n",
      "\n",
      "Feature TRANSACTION_ID :   importance:0.2106328921391684\n",
      "Feature CUSTOMER_ID :   importance:0.038609900746576324\n",
      "Feature TERMINAL_ID :   importance:0.1594202809382569\n",
      "Feature TX_AMOUNT :   importance:0.14083784657797263\n",
      "Feature x_customer_id :   importance:0.04653502515372867\n",
      "Feature y_customer_id :   importance:0.045934673315250106\n",
      "Feature mean_amount :   importance:0.03648169874257018\n",
      "Feature std_amount :   importance:0.036234048150069136\n",
      "Feature mean_nb_tx_per_day :   importance:0.042211054646343685\n",
      "Feature nb_terminals :   importance:0.027236104298711896\n",
      "Feature in_terminal_range :   importance:0.0\n",
      "Feature TX_DATETIME_MONTH :   importance:0.0390538545581018\n",
      "Feature TX_DATETIME_DAY :   importance:0.12073182061088311\n",
      "Feature TX_DATETIME_HOUR :   importance:0.05608080012236719\n"
     ]
    }
   ],
   "source": [
    "from sklearn.ensemble import RandomForestClassifier\n",
    "RF = RandomForestClassifier(n_estimators=150, criterion='gini',\n",
    "                            max_depth=None, min_samples_split=20, \n",
    "                            min_samples_leaf=1, min_weight_fraction_leaf=0.0, \n",
    "                            max_features='sqrt', max_leaf_nodes=None,bootstrap=True, \n",
    "                            n_jobs=-1, random_state=42, verbose=0,\n",
    "                            warm_start=True, class_weight=None, ccp_alpha=0.0, max_samples=None)\n",
    "\n",
    "model,y_predict,precision =  make_predictions(RF,X_train,y_train,X_test,y_test)\n",
    "\n",
    "print('\\n')\n",
    "## Feature importances \n",
    "for i,v in zip(RF.feature_names_in_, RF.feature_importances_):\n",
    "    print(f\"Feature {i} :   importance:{v}\")"
   ]
  },
  {
   "cell_type": "code",
   "execution_count": 161,
   "id": "2198c67d",
   "metadata": {},
   "outputs": [
    {
     "name": "stdout",
     "output_type": "stream",
     "text": [
      "The training set precision score is : 0.982\n",
      "The test precision score is :  0.028\n",
      "\n",
      "\n",
      "Feature TRANSACTION_ID :   importance:0.2534386669957965\n",
      "Feature CUSTOMER_ID :   importance:0.1888446171514283\n",
      "Feature TERMINAL_ID :   importance:0.17782034688070808\n",
      "Feature TX_AMOUNT :   importance:0.14004972155056766\n",
      "Feature TX_DATETIME_MONTH :   importance:0.018023865270151443\n",
      "Feature TX_DATETIME_DAY :   importance:0.12263540018355938\n",
      "Feature TX_DATETIME_HOUR :   importance:0.09918738196778872\n"
     ]
    }
   ],
   "source": [
    "## Using the augmented dataset \n",
    "RF = RandomForestClassifier(n_estimators=150, criterion='gini',\n",
    "                            max_depth=None, min_samples_split=20, \n",
    "                            min_samples_leaf=1, min_weight_fraction_leaf=0.0, \n",
    "                            max_features='sqrt', max_leaf_nodes=None,bootstrap=True, \n",
    "                            n_jobs=-1, random_state=42, verbose=0,\n",
    "                            warm_start=True, class_weight=None, ccp_alpha=0.0, max_samples=None)\n",
    "\n",
    "make_predictions(RF,X_train_oversample,y_train_oversample,X_test,y_test)\n",
    "print('\\n')\n",
    "\n",
    "## Feature importances \n",
    "for i,v in zip(RF.feature_names_in_, RF.feature_importances_):\n",
    "    print(f\"Feature {i} :   importance:{v}\")"
   ]
  },
  {
   "cell_type": "markdown",
   "id": "3fc3a777",
   "metadata": {},
   "source": [
    "There appears to be no benefit to using the augmented dataset so we will use our original dataset. With the original dataset, the random forest classifier appears to be overfiit"
   ]
  },
  {
   "cell_type": "markdown",
   "id": "8efb9908",
   "metadata": {},
   "source": [
    "## XGBOOST"
   ]
  },
  {
   "cell_type": "code",
   "execution_count": 162,
   "id": "374a2348",
   "metadata": {},
   "outputs": [],
   "source": [
    "from xgboost import XGBClassifier"
   ]
  },
  {
   "cell_type": "code",
   "execution_count": 111,
   "id": "f134a9d4",
   "metadata": {},
   "outputs": [
    {
     "name": "stdout",
     "output_type": "stream",
     "text": [
      "90\n",
      "The training set precision score is : 0.999\n",
      "The test precision score is :  0.204\n",
      "\n",
      "\n",
      "91\n",
      "The training set precision score is : 0.999\n",
      "The test precision score is :  0.193\n",
      "\n",
      "\n",
      "92\n",
      "The training set precision score is : 0.999\n",
      "The test precision score is :  0.219\n",
      "\n",
      "\n",
      "93\n",
      "The training set precision score is : 0.999\n",
      "The test precision score is :  0.217\n",
      "\n",
      "\n",
      "94\n",
      "The training set precision score is : 0.999\n",
      "The test precision score is :  0.188\n",
      "\n",
      "\n",
      "95\n",
      "The training set precision score is : 0.999\n",
      "The test precision score is :  0.183\n",
      "\n",
      "\n",
      "96\n",
      "The training set precision score is : 0.999\n",
      "The test precision score is :  0.230\n",
      "\n",
      "\n",
      "97\n",
      "The training set precision score is : 0.999\n",
      "The test precision score is :  0.197\n",
      "\n",
      "\n",
      "98\n",
      "The training set precision score is : 0.999\n",
      "The test precision score is :  0.226\n",
      "\n",
      "\n",
      "99\n",
      "The training set precision score is : 0.999\n",
      "The test precision score is :  0.225\n",
      "\n",
      "\n"
     ]
    }
   ],
   "source": [
    "## Tweeking the scale_pos_weight parameter\n",
    "w_values = np.arange(90,100,1)\n",
    "for w in w_values:\n",
    "    print(w)\n",
    "    xgb = XGBClassifier(n_estimators = 2000, scale_pos_weight=w)\n",
    "    y_predict, precision = make_predictions(xgb,X_train,y_train,X_test,y_test)\n",
    "    print(\"\\n\")\n"
   ]
  },
  {
   "cell_type": "markdown",
   "id": "d258b38f",
   "metadata": {},
   "source": [
    "## SVM "
   ]
  },
  {
   "cell_type": "code",
   "execution_count": 163,
   "id": "f47c5f46",
   "metadata": {},
   "outputs": [],
   "source": [
    "from sklearn.svm import SVC "
   ]
  },
  {
   "cell_type": "code",
   "execution_count": 164,
   "id": "14f5bdf6",
   "metadata": {},
   "outputs": [
    {
     "data": {
      "text/html": [
       "<style>#sk-container-id-3 {color: black;background-color: white;}#sk-container-id-3 pre{padding: 0;}#sk-container-id-3 div.sk-toggleable {background-color: white;}#sk-container-id-3 label.sk-toggleable__label {cursor: pointer;display: block;width: 100%;margin-bottom: 0;padding: 0.3em;box-sizing: border-box;text-align: center;}#sk-container-id-3 label.sk-toggleable__label-arrow:before {content: \"▸\";float: left;margin-right: 0.25em;color: #696969;}#sk-container-id-3 label.sk-toggleable__label-arrow:hover:before {color: black;}#sk-container-id-3 div.sk-estimator:hover label.sk-toggleable__label-arrow:before {color: black;}#sk-container-id-3 div.sk-toggleable__content {max-height: 0;max-width: 0;overflow: hidden;text-align: left;background-color: #f0f8ff;}#sk-container-id-3 div.sk-toggleable__content pre {margin: 0.2em;color: black;border-radius: 0.25em;background-color: #f0f8ff;}#sk-container-id-3 input.sk-toggleable__control:checked~div.sk-toggleable__content {max-height: 200px;max-width: 100%;overflow: auto;}#sk-container-id-3 input.sk-toggleable__control:checked~label.sk-toggleable__label-arrow:before {content: \"▾\";}#sk-container-id-3 div.sk-estimator input.sk-toggleable__control:checked~label.sk-toggleable__label {background-color: #d4ebff;}#sk-container-id-3 div.sk-label input.sk-toggleable__control:checked~label.sk-toggleable__label {background-color: #d4ebff;}#sk-container-id-3 input.sk-hidden--visually {border: 0;clip: rect(1px 1px 1px 1px);clip: rect(1px, 1px, 1px, 1px);height: 1px;margin: -1px;overflow: hidden;padding: 0;position: absolute;width: 1px;}#sk-container-id-3 div.sk-estimator {font-family: monospace;background-color: #f0f8ff;border: 1px dotted black;border-radius: 0.25em;box-sizing: border-box;margin-bottom: 0.5em;}#sk-container-id-3 div.sk-estimator:hover {background-color: #d4ebff;}#sk-container-id-3 div.sk-parallel-item::after {content: \"\";width: 100%;border-bottom: 1px solid gray;flex-grow: 1;}#sk-container-id-3 div.sk-label:hover label.sk-toggleable__label {background-color: #d4ebff;}#sk-container-id-3 div.sk-serial::before {content: \"\";position: absolute;border-left: 1px solid gray;box-sizing: border-box;top: 0;bottom: 0;left: 50%;z-index: 0;}#sk-container-id-3 div.sk-serial {display: flex;flex-direction: column;align-items: center;background-color: white;padding-right: 0.2em;padding-left: 0.2em;position: relative;}#sk-container-id-3 div.sk-item {position: relative;z-index: 1;}#sk-container-id-3 div.sk-parallel {display: flex;align-items: stretch;justify-content: center;background-color: white;position: relative;}#sk-container-id-3 div.sk-item::before, #sk-container-id-3 div.sk-parallel-item::before {content: \"\";position: absolute;border-left: 1px solid gray;box-sizing: border-box;top: 0;bottom: 0;left: 50%;z-index: -1;}#sk-container-id-3 div.sk-parallel-item {display: flex;flex-direction: column;z-index: 1;position: relative;background-color: white;}#sk-container-id-3 div.sk-parallel-item:first-child::after {align-self: flex-end;width: 50%;}#sk-container-id-3 div.sk-parallel-item:last-child::after {align-self: flex-start;width: 50%;}#sk-container-id-3 div.sk-parallel-item:only-child::after {width: 0;}#sk-container-id-3 div.sk-dashed-wrapped {border: 1px dashed gray;margin: 0 0.4em 0.5em 0.4em;box-sizing: border-box;padding-bottom: 0.4em;background-color: white;}#sk-container-id-3 div.sk-label label {font-family: monospace;font-weight: bold;display: inline-block;line-height: 1.2em;}#sk-container-id-3 div.sk-label-container {text-align: center;}#sk-container-id-3 div.sk-container {/* jupyter's `normalize.less` sets `[hidden] { display: none; }` but bootstrap.min.css set `[hidden] { display: none !important; }` so we also need the `!important` here to be able to override the default hidden behavior on the sphinx rendered scikit-learn.org. See: https://github.com/scikit-learn/scikit-learn/issues/21755 */display: inline-block !important;position: relative;}#sk-container-id-3 div.sk-text-repr-fallback {display: none;}</style><div id=\"sk-container-id-3\" class=\"sk-top-container\"><div class=\"sk-text-repr-fallback\"><pre>SVC()</pre><b>In a Jupyter environment, please rerun this cell to show the HTML representation or trust the notebook. <br />On GitHub, the HTML representation is unable to render, please try loading this page with nbviewer.org.</b></div><div class=\"sk-container\" hidden><div class=\"sk-item\"><div class=\"sk-estimator sk-toggleable\"><input class=\"sk-toggleable__control sk-hidden--visually\" id=\"sk-estimator-id-3\" type=\"checkbox\" checked><label for=\"sk-estimator-id-3\" class=\"sk-toggleable__label sk-toggleable__label-arrow\">SVC</label><div class=\"sk-toggleable__content\"><pre>SVC()</pre></div></div></div></div></div>"
      ],
      "text/plain": [
       "SVC()"
      ]
     },
     "execution_count": 164,
     "metadata": {},
     "output_type": "execute_result"
    }
   ],
   "source": [
    "svm = SVC()\n",
    "svm.fit(X_train,y_train)"
   ]
  },
  {
   "cell_type": "code",
   "execution_count": 165,
   "id": "8bde22ef",
   "metadata": {},
   "outputs": [
    {
     "name": "stderr",
     "output_type": "stream",
     "text": [
      "C:\\Users\\Agnes\\anaconda3\\lib\\site-packages\\sklearn\\metrics\\_classification.py:1344: UndefinedMetricWarning: Precision is ill-defined and being set to 0.0 due to no predicted samples. Use `zero_division` parameter to control this behavior.\n",
      "  _warn_prf(average, modifier, msg_start, len(result))\n"
     ]
    },
    {
     "data": {
      "text/plain": [
       "0.0"
      ]
     },
     "execution_count": 165,
     "metadata": {},
     "output_type": "execute_result"
    }
   ],
   "source": [
    "y_predict = svm.predict(X_test)\n",
    "precision_score(y_test,y_predict)"
   ]
  },
  {
   "cell_type": "markdown",
   "id": "ed761b05",
   "metadata": {},
   "source": [
    "Support Vector Machines perform the worst out of all the algorithms we have tried so far. "
   ]
  },
  {
   "cell_type": "code",
   "execution_count": 115,
   "id": "da4f9982",
   "metadata": {},
   "outputs": [],
   "source": [
    "from sklearn.neighbors import KNeighborsClassifier as knn\n",
    "\n",
    "knn_model.fit(X_train,y_train)\n",
    "\n",
    "knn_model = knn(n_neighbors = 10)\n",
    "make_predictions(knn_model,X_train,y_train,X_test,y_test)"
   ]
  },
  {
   "cell_type": "code",
   "execution_count": null,
   "id": "f85f2eee",
   "metadata": {},
   "outputs": [],
   "source": []
  },
  {
   "cell_type": "markdown",
   "id": "80578819",
   "metadata": {},
   "source": [
    "## Adding the customer feature set \n",
    "Up till now we have not included the customer feature set. Let's compare the models performance with the increased features. "
   ]
  },
  {
   "cell_type": "code",
   "execution_count": 112,
   "id": "49bfb922",
   "metadata": {},
   "outputs": [],
   "source": [
    "## Merge train_df and customer_df \n",
    "merged_df = train_df.merge(right = customer_df,\n",
    "                            how = 'left',\n",
    "                            left_on = 'CUSTOMER_ID',\n",
    "                            right_on = 'CUSTOMER_ID')"
   ]
  },
  {
   "cell_type": "code",
   "execution_count": 182,
   "id": "83cd6c98",
   "metadata": {},
   "outputs": [
    {
     "data": {
      "text/plain": [
       "291231"
      ]
     },
     "execution_count": 182,
     "metadata": {},
     "output_type": "execute_result"
    }
   ],
   "source": [
    "len(merged_df)"
   ]
  },
  {
   "cell_type": "markdown",
   "id": "9eead6ef",
   "metadata": {},
   "source": [
    "is Terminal_ID in avaialable_terminals \n",
    "d\n"
   ]
  },
  {
   "cell_type": "code",
   "execution_count": 176,
   "id": "ead925a5",
   "metadata": {},
   "outputs": [],
   "source": [
    "terminal_flag = [] \n",
    "for row in merged_df.iterrows():\n",
    "    flag = str(row[1]['TERMINAL_ID']) in row[1]['available_terminals'] \n",
    "    terminal_flag.append(flag)"
   ]
  },
  {
   "cell_type": "code",
   "execution_count": 184,
   "id": "6f6ee380",
   "metadata": {},
   "outputs": [],
   "source": [
    "merged_df['in_terminal_range'] = terminal_flag"
   ]
  },
  {
   "cell_type": "code",
   "execution_count": 185,
   "id": "945a7b7a",
   "metadata": {},
   "outputs": [
    {
     "data": {
      "text/plain": [
       "TRANSACTION_ID         0.0\n",
       "TX_DATETIME            0.0\n",
       "CUSTOMER_ID            0.0\n",
       "TERMINAL_ID            0.0\n",
       "TX_AMOUNT              0.0\n",
       "TX_FRAUD               0.0\n",
       "x_customer_id          0.0\n",
       "y_customer_id          0.0\n",
       "mean_amount            0.0\n",
       "std_amount             0.0\n",
       "mean_nb_tx_per_day     0.0\n",
       "available_terminals    0.0\n",
       "nb_terminals           0.0\n",
       "terminal_flag          0.0\n",
       "in_terminal_range      0.0\n",
       "dtype: float64"
      ]
     },
     "execution_count": 185,
     "metadata": {},
     "output_type": "execute_result"
    }
   ],
   "source": [
    "merged_df[merged_df['in_terminal_range'] == False].sum()"
   ]
  },
  {
   "cell_type": "markdown",
   "id": "c28c7a1d",
   "metadata": {},
   "source": [
    "All the transactions in the dataset happen within the 5 mile radius for every customer.  "
   ]
  },
  {
   "cell_type": "code",
   "execution_count": 189,
   "id": "28d79df9",
   "metadata": {},
   "outputs": [
    {
     "data": {
      "text/html": [
       "<div>\n",
       "<style scoped>\n",
       "    .dataframe tbody tr th:only-of-type {\n",
       "        vertical-align: middle;\n",
       "    }\n",
       "\n",
       "    .dataframe tbody tr th {\n",
       "        vertical-align: top;\n",
       "    }\n",
       "\n",
       "    .dataframe thead th {\n",
       "        text-align: right;\n",
       "    }\n",
       "</style>\n",
       "<table border=\"1\" class=\"dataframe\">\n",
       "  <thead>\n",
       "    <tr style=\"text-align: right;\">\n",
       "      <th></th>\n",
       "      <th>CUSTOMER_ID</th>\n",
       "      <th>x_customer_id</th>\n",
       "      <th>y_customer_id</th>\n",
       "      <th>mean_amount</th>\n",
       "      <th>std_amount</th>\n",
       "      <th>mean_nb_tx_per_day</th>\n",
       "      <th>available_terminals</th>\n",
       "      <th>nb_terminals</th>\n",
       "    </tr>\n",
       "  </thead>\n",
       "  <tbody>\n",
       "    <tr>\n",
       "      <th>0</th>\n",
       "      <td>0</td>\n",
       "      <td>54.881350</td>\n",
       "      <td>71.518937</td>\n",
       "      <td>62.262521</td>\n",
       "      <td>31.131260</td>\n",
       "      <td>2.179533</td>\n",
       "      <td>[29, 87, 144, 241, 330, 858, 996, 1028, 1067, ...</td>\n",
       "      <td>22</td>\n",
       "    </tr>\n",
       "    <tr>\n",
       "      <th>1</th>\n",
       "      <td>1</td>\n",
       "      <td>42.365480</td>\n",
       "      <td>64.589411</td>\n",
       "      <td>46.570785</td>\n",
       "      <td>23.285393</td>\n",
       "      <td>3.567092</td>\n",
       "      <td>[5, 160, 242, 378, 431, 475, 571, 762, 876, 93...</td>\n",
       "      <td>20</td>\n",
       "    </tr>\n",
       "    <tr>\n",
       "      <th>2</th>\n",
       "      <td>2</td>\n",
       "      <td>96.366276</td>\n",
       "      <td>38.344152</td>\n",
       "      <td>80.213879</td>\n",
       "      <td>40.106939</td>\n",
       "      <td>2.115580</td>\n",
       "      <td>[316, 406, 447, 523, 968, 1200, 1318, 1365, 16...</td>\n",
       "      <td>10</td>\n",
       "    </tr>\n",
       "    <tr>\n",
       "      <th>3</th>\n",
       "      <td>3</td>\n",
       "      <td>56.804456</td>\n",
       "      <td>92.559664</td>\n",
       "      <td>11.748426</td>\n",
       "      <td>5.874213</td>\n",
       "      <td>0.348517</td>\n",
       "      <td>[65, 94, 113, 364, 401, 433, 485, 651, 672, 77...</td>\n",
       "      <td>17</td>\n",
       "    </tr>\n",
       "    <tr>\n",
       "      <th>4</th>\n",
       "      <td>4</td>\n",
       "      <td>2.021840</td>\n",
       "      <td>83.261985</td>\n",
       "      <td>78.924891</td>\n",
       "      <td>39.462446</td>\n",
       "      <td>3.480049</td>\n",
       "      <td>[372, 614, 774, 1362, 1446, 1564, 1637, 1939]</td>\n",
       "      <td>8</td>\n",
       "    </tr>\n",
       "    <tr>\n",
       "      <th>...</th>\n",
       "      <td>...</td>\n",
       "      <td>...</td>\n",
       "      <td>...</td>\n",
       "      <td>...</td>\n",
       "      <td>...</td>\n",
       "      <td>...</td>\n",
       "      <td>...</td>\n",
       "      <td>...</td>\n",
       "    </tr>\n",
       "    <tr>\n",
       "      <th>995</th>\n",
       "      <td>995</td>\n",
       "      <td>43.216661</td>\n",
       "      <td>36.225882</td>\n",
       "      <td>58.023111</td>\n",
       "      <td>29.011555</td>\n",
       "      <td>0.305376</td>\n",
       "      <td>[264, 309, 395, 412, 483, 637, 652, 656, 906, ...</td>\n",
       "      <td>17</td>\n",
       "    </tr>\n",
       "    <tr>\n",
       "      <th>996</th>\n",
       "      <td>996</td>\n",
       "      <td>4.034602</td>\n",
       "      <td>51.110309</td>\n",
       "      <td>7.707631</td>\n",
       "      <td>3.853816</td>\n",
       "      <td>0.238208</td>\n",
       "      <td>[32, 83, 194, 239, 280, 520, 570, 752, 1088, 1...</td>\n",
       "      <td>14</td>\n",
       "    </tr>\n",
       "    <tr>\n",
       "      <th>997</th>\n",
       "      <td>997</td>\n",
       "      <td>37.634146</td>\n",
       "      <td>6.177907</td>\n",
       "      <td>41.619615</td>\n",
       "      <td>20.809807</td>\n",
       "      <td>0.967002</td>\n",
       "      <td>[147, 148, 185, 413, 957, 1160, 1426, 1590, 16...</td>\n",
       "      <td>10</td>\n",
       "    </tr>\n",
       "    <tr>\n",
       "      <th>998</th>\n",
       "      <td>998</td>\n",
       "      <td>18.777030</td>\n",
       "      <td>40.467983</td>\n",
       "      <td>16.390871</td>\n",
       "      <td>8.195436</td>\n",
       "      <td>1.398557</td>\n",
       "      <td>[138, 577, 602, 825, 950, 966, 1095, 1157, 124...</td>\n",
       "      <td>21</td>\n",
       "    </tr>\n",
       "    <tr>\n",
       "      <th>999</th>\n",
       "      <td>999</td>\n",
       "      <td>43.487363</td>\n",
       "      <td>83.000295</td>\n",
       "      <td>93.616587</td>\n",
       "      <td>46.808294</td>\n",
       "      <td>1.233354</td>\n",
       "      <td>[119, 471, 486, 511, 589, 623, 753, 959, 1181,...</td>\n",
       "      <td>14</td>\n",
       "    </tr>\n",
       "  </tbody>\n",
       "</table>\n",
       "<p>1000 rows × 8 columns</p>\n",
       "</div>"
      ],
      "text/plain": [
       "     CUSTOMER_ID  x_customer_id  y_customer_id  mean_amount  std_amount  \\\n",
       "0              0      54.881350      71.518937    62.262521   31.131260   \n",
       "1              1      42.365480      64.589411    46.570785   23.285393   \n",
       "2              2      96.366276      38.344152    80.213879   40.106939   \n",
       "3              3      56.804456      92.559664    11.748426    5.874213   \n",
       "4              4       2.021840      83.261985    78.924891   39.462446   \n",
       "..           ...            ...            ...          ...         ...   \n",
       "995          995      43.216661      36.225882    58.023111   29.011555   \n",
       "996          996       4.034602      51.110309     7.707631    3.853816   \n",
       "997          997      37.634146       6.177907    41.619615   20.809807   \n",
       "998          998      18.777030      40.467983    16.390871    8.195436   \n",
       "999          999      43.487363      83.000295    93.616587   46.808294   \n",
       "\n",
       "     mean_nb_tx_per_day                                available_terminals  \\\n",
       "0              2.179533  [29, 87, 144, 241, 330, 858, 996, 1028, 1067, ...   \n",
       "1              3.567092  [5, 160, 242, 378, 431, 475, 571, 762, 876, 93...   \n",
       "2              2.115580  [316, 406, 447, 523, 968, 1200, 1318, 1365, 16...   \n",
       "3              0.348517  [65, 94, 113, 364, 401, 433, 485, 651, 672, 77...   \n",
       "4              3.480049      [372, 614, 774, 1362, 1446, 1564, 1637, 1939]   \n",
       "..                  ...                                                ...   \n",
       "995            0.305376  [264, 309, 395, 412, 483, 637, 652, 656, 906, ...   \n",
       "996            0.238208  [32, 83, 194, 239, 280, 520, 570, 752, 1088, 1...   \n",
       "997            0.967002  [147, 148, 185, 413, 957, 1160, 1426, 1590, 16...   \n",
       "998            1.398557  [138, 577, 602, 825, 950, 966, 1095, 1157, 124...   \n",
       "999            1.233354  [119, 471, 486, 511, 589, 623, 753, 959, 1181,...   \n",
       "\n",
       "     nb_terminals  \n",
       "0              22  \n",
       "1              20  \n",
       "2              10  \n",
       "3              17  \n",
       "4               8  \n",
       "..            ...  \n",
       "995            17  \n",
       "996            14  \n",
       "997            10  \n",
       "998            21  \n",
       "999            14  \n",
       "\n",
       "[1000 rows x 8 columns]"
      ]
     },
     "execution_count": 189,
     "metadata": {},
     "output_type": "execute_result"
    }
   ],
   "source": [
    "customer_df"
   ]
  },
  {
   "cell_type": "code",
   "execution_count": 201,
   "id": "c5a64a42",
   "metadata": {},
   "outputs": [],
   "source": [
    "def check_terminal_range(terminal_id, customer_id,customer_df):\n",
    "    '''Function to determine whether a given terminal is in the available range of terminals a customer usually uses.\n",
    "        This will help us flag strange transactions\n",
    "        Returns True if customer in the accepted range and 0 otherwise'''\n",
    "    temp = customer_df.copy()\n",
    "    temp = temp.set_index('CUSTOMER_ID')\n",
    "    terminal_id = str(terminal_id)\n",
    "    if terminal_id in temp.loc[customer_id,'available_terminals']:\n",
    "        return True\n",
    "    else:\n",
    "        return False"
   ]
  },
  {
   "cell_type": "code",
   "execution_count": 202,
   "id": "dfde5232",
   "metadata": {},
   "outputs": [],
   "source": [
    "check_terminal_range?"
   ]
  },
  {
   "cell_type": "code",
   "execution_count": 209,
   "id": "bc202a19",
   "metadata": {},
   "outputs": [],
   "source": [
    "## Feature engineering:\n",
    "y = train_df.loc[:,'TX_FRAUD']\n",
    "X = merged_df.drop(columns = ['available_terminals','TX_FRAUD'])\n",
    "\n",
    "##  Transform date into datetime \n",
    "X['TX_DATETIME'] = pd.to_datetime(X['TX_DATETIME'])\n",
    "\n",
    "## Create a month feature\n",
    "X['TX_DATETIME_MONTH'] = X['TX_DATETIME'].dt.month\n",
    "\n",
    "## Create a day feature \n",
    "X['TX_DATETIME_DAY'] = X['TX_DATETIME'].dt.day\n",
    "\n",
    "## Create Hour feature \n",
    "X['TX_DATETIME_HOUR'] = X['TX_DATETIME'].dt.hour\n",
    "\n",
    "## Drop the date feature from X\n",
    "X = X.drop(columns = 'TX_DATETIME')\n",
    "\n",
    "X_train,X_test, y_train, y_test = train_test_split(X,y,shuffle = False, random_state = 42)\n"
   ]
  },
  {
   "cell_type": "code",
   "execution_count": 211,
   "id": "b72567dc",
   "metadata": {},
   "outputs": [
    {
     "name": "stdout",
     "output_type": "stream",
     "text": [
      "The training set precision score is : 1.000\n",
      "The test precision score is :  0.120\n"
     ]
    },
    {
     "data": {
      "text/plain": [
       "(array([0, 0, 0, ..., 1, 0, 0], dtype=int64), 0.1196236559139785)"
      ]
     },
     "execution_count": 211,
     "metadata": {},
     "output_type": "execute_result"
    }
   ],
   "source": [
    "## Decision Tree\n",
    "dt = DecisionTreeClassifier().fit(X_train, y_train)\n",
    "make_predictions(dt,X_train,y_train,X_test,y_test)"
   ]
  },
  {
   "cell_type": "code",
   "execution_count": 212,
   "id": "1ca5a944",
   "metadata": {},
   "outputs": [
    {
     "name": "stdout",
     "output_type": "stream",
     "text": [
      "The training set precision score is : 0.980\n",
      "The test precision score is :  0.750\n",
      "\n",
      "\n",
      "Feature TRANSACTION_ID :   importance:0.2106328921391684\n",
      "Feature CUSTOMER_ID :   importance:0.038609900746576324\n",
      "Feature TERMINAL_ID :   importance:0.1594202809382569\n",
      "Feature TX_AMOUNT :   importance:0.14083784657797263\n",
      "Feature x_customer_id :   importance:0.04653502515372867\n",
      "Feature y_customer_id :   importance:0.045934673315250106\n",
      "Feature mean_amount :   importance:0.03648169874257018\n",
      "Feature std_amount :   importance:0.036234048150069136\n",
      "Feature mean_nb_tx_per_day :   importance:0.042211054646343685\n",
      "Feature nb_terminals :   importance:0.027236104298711896\n",
      "Feature in_terminal_range :   importance:0.0\n",
      "Feature TX_DATETIME_MONTH :   importance:0.0390538545581018\n",
      "Feature TX_DATETIME_DAY :   importance:0.12073182061088311\n",
      "Feature TX_DATETIME_HOUR :   importance:0.05608080012236719\n"
     ]
    }
   ],
   "source": [
    "## Random Forest \n",
    "RF = RandomForestClassifier(n_estimators=250, criterion='gini',\n",
    "                            max_depth=None, min_samples_split=20, \n",
    "                            min_samples_leaf=1, min_weight_fraction_leaf=0.0, \n",
    "                            max_features='sqrt', max_leaf_nodes=None,bootstrap=True, \n",
    "                            n_jobs=-1, random_state=42, verbose=0,\n",
    "                            warm_start=True, class_weight=None, ccp_alpha=0.0, max_samples=None)\n",
    "\n",
    "make_predictions(RF,X_train,y_train,X_test,y_test)\n",
    "\n",
    "print('\\n')\n",
    "## Feature importances \n",
    "for i,v in zip(RF.feature_names_in_, RF.feature_importances_):\n",
    "    print(f\"Feature {i} :   importance:{v}\")"
   ]
  },
  {
   "cell_type": "code",
   "execution_count": 213,
   "id": "5ebb4d08",
   "metadata": {},
   "outputs": [
    {
     "name": "stdout",
     "output_type": "stream",
     "text": [
      "90\n",
      "The training set precision score is : 1.000\n",
      "The test precision score is :  0.217\n",
      "\n",
      "\n",
      "91\n",
      "The training set precision score is : 1.000\n",
      "The test precision score is :  0.204\n",
      "\n",
      "\n",
      "92\n",
      "The training set precision score is : 1.000\n",
      "The test precision score is :  0.192\n",
      "\n",
      "\n",
      "93\n",
      "The training set precision score is : 1.000\n",
      "The test precision score is :  0.212\n",
      "\n",
      "\n",
      "94\n",
      "The training set precision score is : 1.000\n",
      "The test precision score is :  0.203\n",
      "\n",
      "\n",
      "95\n",
      "The training set precision score is : 1.000\n",
      "The test precision score is :  0.208\n",
      "\n",
      "\n",
      "96\n",
      "The training set precision score is : 1.000\n",
      "The test precision score is :  0.227\n",
      "\n",
      "\n",
      "97\n",
      "The training set precision score is : 1.000\n",
      "The test precision score is :  0.200\n",
      "\n",
      "\n",
      "98\n",
      "The training set precision score is : 1.000\n",
      "The test precision score is :  0.195\n",
      "\n",
      "\n",
      "99\n",
      "The training set precision score is : 1.000\n",
      "The test precision score is :  0.216\n",
      "\n",
      "\n"
     ]
    }
   ],
   "source": [
    "## XGBoost\n",
    "\n",
    "## Tweeking the scale_pos_weight parameter\n",
    "w_values = np.arange(90,100,1)\n",
    "for w in w_values:\n",
    "    print(w)\n",
    "    xgb = XGBClassifier(n_estimators = 2000, scale_pos_weight=w)\n",
    "    y_predict, precision = make_predictions(xgb,X_train,y_train,X_test,y_test)\n",
    "    print(\"\\n\")\n"
   ]
  },
  {
   "cell_type": "markdown",
   "id": "1c002a7c",
   "metadata": {},
   "source": [
    "We obtain the best precision score on the test dataset for scale_pos_weight = 0.98. For all the values of scale_pos_weight, we see XGBoost overfits to the training set.\n",
    "\n",
    "**Conclusion:**\n",
    "\n",
    "Of all the models we have explored, we get better performance with the random forest model. Initially, I was expecting the xgboost model to outperform random forest but that is not what we see in practice. Secondly, artificially augmenting the dataset using SMOTE did not improve the model performance"
   ]
  },
  {
   "cell_type": "code",
   "execution_count": 241,
   "id": "a2fd5c00",
   "metadata": {},
   "outputs": [],
   "source": [
    "## Test df\n",
    "\n",
    "## Feature engineering \n",
    "\n",
    "##1 . Merge df\n",
    "df1 = test_df.merge(right = customer_df,\n",
    "                            how = 'left',\n",
    "                            left_on = 'CUSTOMER_ID',\n",
    "                            right_on = 'CUSTOMER_ID')\n",
    "\n",
    "\n",
    "\n",
    "## Add in terminal range \n",
    "terminal_flag = [] \n",
    "for row in df1.iterrows():\n",
    "    flag = str(row[1]['TERMINAL_ID']) in row[1]['available_terminals'] \n",
    "    terminal_flag.append(flag)\n",
    "\n",
    "df1['in_terminal_range'] = terminal_flag\n",
    "\n",
    "## Feature engineering:\n",
    "X = df1.drop(columns = ['available_terminals'])\n",
    "\n",
    "##  Transform date into datetime \n",
    "X['TX_DATETIME'] = pd.to_datetime(X['TX_DATETIME'])\n",
    "\n",
    "## Create a month feature\n",
    "X['TX_DATETIME_MONTH'] = X['TX_DATETIME'].dt.month\n",
    "\n",
    "## Create a day feature \n",
    "X['TX_DATETIME_DAY'] = X['TX_DATETIME'].dt.day\n",
    "\n",
    "## Create Hour feature \n",
    "X['TX_DATETIME_HOUR'] = X['TX_DATETIME'].dt.hour\n",
    "\n",
    "## Drop the date feature from X\n",
    "X = X.drop(columns = 'TX_DATETIME')\n"
   ]
  },
  {
   "cell_type": "code",
   "execution_count": 244,
   "id": "42d3f81b",
   "metadata": {},
   "outputs": [],
   "source": [
    "## Random Forest \n",
    "RF = RandomForestClassifier(n_estimators=250, criterion='gini',\n",
    "                            max_depth=None, min_samples_split=20, \n",
    "                            min_samples_leaf=1, min_weight_fraction_leaf=0.0, \n",
    "                            max_features='sqrt', max_leaf_nodes=None,bootstrap=True, \n",
    "                            n_jobs=-1, random_state=42, verbose=0,\n",
    "                            warm_start=True, class_weight=None, ccp_alpha=0.0, max_samples=None)"
   ]
  },
  {
   "cell_type": "code",
   "execution_count": 245,
   "id": "a6a116b9",
   "metadata": {},
   "outputs": [
    {
     "name": "stdout",
     "output_type": "stream",
     "text": [
      "The training set precision score is : 0.980\n",
      "The test precision score is :  0.610\n"
     ]
    }
   ],
   "source": [
    "model,y_predict,precision =  make_predictions(RF,X_train,y_train,X_test,y_test)"
   ]
  },
  {
   "cell_type": "code",
   "execution_count": 280,
   "id": "0132f058",
   "metadata": {},
   "outputs": [],
   "source": [
    "y_test_predict = model.predict(X)\n",
    "y_test_predict = pd.DataFrame(y_test_predict,index = df1.TRANSACTION_ID,columns = ['TX_FRAUD']).reset_index()\n",
    "\n"
   ]
  },
  {
   "cell_type": "code",
   "execution_count": 285,
   "id": "8b614b12",
   "metadata": {},
   "outputs": [],
   "source": [
    "result = y_test_predict[y_test_predict['TRANSACTION_ID'] >= 524230]\n",
    "result.set_index('TRANSACTION_ID',inplace = True)\n",
    "## Save to CSV \n",
    "result.to_csv(\"Output.csv\")"
   ]
  },
  {
   "cell_type": "code",
   "execution_count": null,
   "id": "3062ec09",
   "metadata": {},
   "outputs": [],
   "source": []
  }
 ],
 "metadata": {
  "kernelspec": {
   "display_name": "Python 3",
   "language": "python",
   "name": "python3"
  },
  "language_info": {
   "codemirror_mode": {
    "name": "ipython",
    "version": 3
   },
   "file_extension": ".py",
   "mimetype": "text/x-python",
   "name": "python",
   "nbconvert_exporter": "python",
   "pygments_lexer": "ipython3",
   "version": "3.8.8"
  }
 },
 "nbformat": 4,
 "nbformat_minor": 5
}
